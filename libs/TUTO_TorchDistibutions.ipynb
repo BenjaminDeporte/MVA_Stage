{
 "cells": [
  {
   "cell_type": "markdown",
   "id": "236e51c3",
   "metadata": {},
   "source": [
    "# Survival kit Torch Distribution"
   ]
  },
  {
   "cell_type": "code",
   "execution_count": 13,
   "id": "92bd01a2",
   "metadata": {},
   "outputs": [],
   "source": [
    "import torch\n",
    "import torch.distributions as dist\n",
    "from torch.distributions.multivariate_normal import MultivariateNormal\n",
    "from torch.distributions import Normal, Independent"
   ]
  },
  {
   "cell_type": "markdown",
   "id": "12e503d7",
   "metadata": {},
   "source": [
    "Article\n",
    "\n",
    "https://bochang.me/blog/posts/pytorch-distributions/\n",
    "\n",
    "Doc Torch\n",
    "\n",
    "https://docs.pytorch.org/docs/1.3.0/distributions.html#multivariatenormal"
   ]
  },
  {
   "cell_type": "markdown",
   "id": "0ba7381f",
   "metadata": {},
   "source": [
    "**Paramètres de la distribution:**\n",
    "\n",
    "event_shape : dimension de la variable\n",
    "\n",
    "batch_shape : batch size, indépendent, non identiques\n",
    "\n",
    "**Arguments de rsample:**\n",
    "\n",
    "sample_shape : nombre d'échantillons iid"
   ]
  },
  {
   "cell_type": "code",
   "execution_count": null,
   "id": "55fc7944",
   "metadata": {},
   "outputs": [
    {
     "name": "stdout",
     "output_type": "stream",
     "text": [
      "torch.Size([1000, 2])\n"
     ]
    }
   ],
   "source": [
    "# Crée une distribution MVN\n",
    "# - covariance_matrix est de dimension 2x2, donc la dimension de la variable aléatoire est 2 : event_shape = 2\n",
    "# - loc est le vecteur de moyenne de dimension 2\n",
    "\n",
    "mvn = MultivariateNormal(\n",
    "    loc=torch.zeros(2),\n",
    "    covariance_matrix=torch.tensor([[1.0, 0.5], [0.5, 1.0]])\n",
    ")\n",
    "\n",
    "samples = mvn.rsample((1000,))  # Génère 1000 échantillons\n",
    "\n",
    "print(samples.shape)  # Affiche la forme des échantillons"
   ]
  },
  {
   "cell_type": "code",
   "execution_count": 5,
   "id": "c4abda95",
   "metadata": {},
   "outputs": [
    {
     "name": "stdout",
     "output_type": "stream",
     "text": [
      "torch.Size([10, 5, 3, 2])\n"
     ]
    }
   ],
   "source": [
    "# crée une autre distribution MVN\n",
    "# - covariance_matrix toujours 2x2 => event_shape = 2\n",
    "# - loc déduit du tensor en input : shape (5, 3, 2) + event_shape = 2 => batch_shape = (5, 3)\n",
    "\n",
    "mvn = MultivariateNormal(\n",
    "    loc=torch.randn(5,3,2),\n",
    "    covariance_matrix=torch.eye(2)\n",
    ")\n",
    "\n",
    "samples = mvn.rsample((10,))  # Génère 10 échantillons\n",
    "\n",
    "print(samples.shape)  # Affiche la forme des échantillons"
   ]
  },
  {
   "cell_type": "code",
   "execution_count": 8,
   "id": "2dc0c11c",
   "metadata": {},
   "outputs": [
    {
     "name": "stdout",
     "output_type": "stream",
     "text": [
      "Non correspondance entre la taille de la matrice de covariance et la dernière dimension de loc\n"
     ]
    }
   ],
   "source": [
    "# crée une autre distribution MVN\n",
    "# - covariance_matrix toujours 2x2 => event_shape = 2\n",
    "# - loc déduit du tensor en input : shape (5, 3, 2) + event_shape = 2 => batch_shape = (5, 3)\n",
    "\n",
    "try:\n",
    "    mvn = MultivariateNormal(\n",
    "        loc=torch.randn(5,3,4),\n",
    "        covariance_matrix=torch.eye(2)\n",
    "    )\n",
    "\n",
    "    samples = mvn.rsample((10,))  # Génère 10 échantillons\n",
    "except RuntimeError as e:\n",
    "    print(f\"Non correspondance entre la taille de la matrice de covariance et la dernière dimension de loc\")"
   ]
  },
  {
   "cell_type": "markdown",
   "id": "35038b20",
   "metadata": {},
   "source": [
    "### Independent class\n",
    "\n",
    "The Independent class does not represent any probability distribution. Instead, it creates a new distribution instance by “reinterpreting” some of the batch shapes of an existing distribution as event shapes.\n",
    "\n",
    "torch.distributions.independent.Independent(base_distribution,\n",
    "reinterpreted_batch_ndims, validate_args=None)"
   ]
  },
  {
   "cell_type": "code",
   "execution_count": 15,
   "id": "f31b8233",
   "metadata": {},
   "outputs": [
    {
     "name": "stdout",
     "output_type": "stream",
     "text": [
      "AVANT Independent:\n",
      "Caractéristiques de la distribution normale : batch_shape = torch.Size([5, 3, 2]), event_shape = torch.Size([])\n",
      "APRES Independent(normal, 1):\n",
      "Caractéristiques de la distribution normale indépendante : batch_shape = torch.Size([5, 3]), event_shape = torch.Size([2])\n",
      "APRES Independent(normal, 2):\n",
      "Caractéristiques de la distribution normale indépendante : batch_shape = torch.Size([5]), event_shape = torch.Size([3, 2])\n"
     ]
    }
   ],
   "source": [
    "normal = Normal(\n",
    "    loc = torch.randn(5,3,2),\n",
    "    scale = torch.ones(5,3,2)\n",
    ")\n",
    "\n",
    "print(f\"AVANT Independent:\")\n",
    "print(f\"Caractéristiques de la distribution normale : batch_shape = {normal.batch_shape}, event_shape = {normal.event_shape}\")\n",
    "\n",
    "# use Independent pour recaster la dernière dimension de 'batch_shape' dans 'event_shape' \n",
    "independent_normal_1 = Independent(normal, 1) \n",
    "print(f\"APRES Independent(normal, 1):\")\n",
    "print(f\"Caractéristiques de la distribution normale indépendante : batch_shape = {independent_normal_1.batch_shape}, event_shape = {independent_normal_1.event_shape}\")\n",
    "\n",
    "# use Independent pour recaster les deux dernières dimensions de 'batch_shape' dans 'event_shape' \n",
    "independent_normal_2 = Independent(normal, 2) \n",
    "print(f\"APRES Independent(normal, 2):\")\n",
    "print(f\"Caractéristiques de la distribution normale indépendante : batch_shape = {independent_normal_2.batch_shape}, event_shape = {independent_normal_2.event_shape}\")"
   ]
  }
 ],
 "metadata": {
  "kernelspec": {
   "display_name": "torchy",
   "language": "python",
   "name": "python3"
  },
  "language_info": {
   "codemirror_mode": {
    "name": "ipython",
    "version": 3
   },
   "file_extension": ".py",
   "mimetype": "text/x-python",
   "name": "python",
   "nbconvert_exporter": "python",
   "pygments_lexer": "ipython3",
   "version": "3.12.4"
  }
 },
 "nbformat": 4,
 "nbformat_minor": 5
}
