{
 "cells": [
  {
   "cell_type": "markdown",
   "id": "44d3ac24",
   "metadata": {},
   "source": [
    "Toy NB \n",
    "\n",
    "Input : variable latente z de dimension Dz\n",
    "\n",
    "Output : \n",
    "\n",
    "moyenne mu_x de dimension Dx\n",
    "  \n",
    "covariance sigma_x (Dx, Dx) définie positive et non diagonale\n",
    "  \n",
    "Doit scaler avec batch, sequence_length :\n",
    "\n",
    "(Dz) => (Dx) + (Dx,Dx)\n",
    "\n",
    "(L,Dz) => (L,Dx) + (L,Dx,Dx)\n",
    "\n",
    "(B,L,Dz) => (B,L,Dx) + (B,L,Dx,Dx)"
   ]
  },
  {
   "cell_type": "code",
   "execution_count": null,
   "id": "125de9fa",
   "metadata": {},
   "outputs": [],
   "source": [
    "import torch\n",
    "import torch.nn as nn\n",
    "from tqdm import tqdm\n",
    "from torch.distributions.multivariate_normal import MultivariateNormal as MVN"
   ]
  },
  {
   "cell_type": "code",
   "execution_count": 2,
   "id": "62e70f56",
   "metadata": {},
   "outputs": [],
   "source": [
    "Dz = 8\n",
    "Dx = 16\n",
    "B = 32\n",
    "N = 500"
   ]
  },
  {
   "cell_type": "code",
   "execution_count": 3,
   "id": "e68586a7",
   "metadata": {},
   "outputs": [
    {
     "name": "stdout",
     "output_type": "stream",
     "text": [
      "z shape: torch.Size([8]) => x shape: torch.Size([16])\n",
      "z shape: torch.Size([500, 8]) => x shape: torch.Size([500, 16])\n",
      "z shape: torch.Size([32, 500, 8]) => x shape: torch.Size([32, 500, 16])\n"
     ]
    }
   ],
   "source": [
    "# diagonale de la matrice de covariance : pas de souci.\n",
    "\n",
    "diagonale = nn.Linear(Dz, Dx)\n",
    "\n",
    "z = torch.randn(Dz)\n",
    "x = diagonale(z)\n",
    "print(f\"z shape: {z.shape} => x shape: {x.shape}\")\n",
    "\n",
    "z = torch.randn(N,Dz)\n",
    "x = diagonale(z)\n",
    "print(f\"z shape: {z.shape} => x shape: {x.shape}\")\n",
    "\n",
    "z = torch.randn(B,N,Dz)\n",
    "x = diagonale(z)\n",
    "print(f\"z shape: {z.shape} => x shape: {x.shape}\")\n"
   ]
  },
  {
   "cell_type": "code",
   "execution_count": 4,
   "id": "8236ff92",
   "metadata": {},
   "outputs": [],
   "source": [
    "# matric triangulaire inferieure de la matrice de covariance\n",
    "\n",
    "class TriangularLower(nn.Module):\n",
    "    def __init__(self, Dz=Dz, Dx=Dx):\n",
    "        super(TriangularLower, self).__init__()\n",
    "        self.full = nn.Sequential(\n",
    "            nn.Linear(Dz, Dx * Dx),\n",
    "            nn.Unflatten(-1, (Dx, Dx)),\n",
    "            )\n",
    "\n",
    "    def forward(self, x):\n",
    "        return torch.tril(self.full(x))\n",
    "    \n",
    "triangulaire = TriangularLower()"
   ]
  },
  {
   "cell_type": "code",
   "execution_count": 5,
   "id": "24bae077",
   "metadata": {},
   "outputs": [
    {
     "name": "stdout",
     "output_type": "stream",
     "text": [
      "z shape: torch.Size([8]) => L shape: torch.Size([16, 16])\n",
      "z shape: torch.Size([500, 8]) => L shape: torch.Size([500, 16, 16])\n",
      "z shape: torch.Size([32, 500, 8]) => L shape: torch.Size([32, 500, 16, 16])\n"
     ]
    }
   ],
   "source": [
    "z = torch.randn(Dz)\n",
    "L = triangulaire(z)\n",
    "print(f\"z shape: {z.shape} => L shape: {L.shape}\")\n",
    "\n",
    "z = torch.randn(N,Dz)\n",
    "L = triangulaire(z)\n",
    "print(f\"z shape: {z.shape} => L shape: {L.shape}\")\n",
    "\n",
    "z = torch.randn(B,N,Dz)\n",
    "L = triangulaire(z)\n",
    "print(f\"z shape: {z.shape} => L shape: {L.shape}\")"
   ]
  },
  {
   "cell_type": "code",
   "execution_count": 6,
   "id": "8e80baa8",
   "metadata": {},
   "outputs": [
    {
     "name": "stdout",
     "output_type": "stream",
     "text": [
      "tensor([[-0.1317,  0.0000,  0.0000,  0.0000,  0.0000,  0.0000,  0.0000,  0.0000,\n",
      "          0.0000,  0.0000,  0.0000,  0.0000,  0.0000,  0.0000,  0.0000,  0.0000],\n",
      "        [-0.7879,  0.0343,  0.0000,  0.0000,  0.0000,  0.0000,  0.0000,  0.0000,\n",
      "          0.0000,  0.0000,  0.0000,  0.0000,  0.0000,  0.0000,  0.0000,  0.0000],\n",
      "        [-0.0703, -0.1561,  0.8436,  0.0000,  0.0000,  0.0000,  0.0000,  0.0000,\n",
      "          0.0000,  0.0000,  0.0000,  0.0000,  0.0000,  0.0000,  0.0000,  0.0000],\n",
      "        [-1.2832,  0.3787,  0.9443, -0.2443,  0.0000,  0.0000,  0.0000,  0.0000,\n",
      "          0.0000,  0.0000,  0.0000,  0.0000,  0.0000,  0.0000,  0.0000,  0.0000],\n",
      "        [-0.1162, -0.1366,  0.5684,  0.8008, -0.6393,  0.0000,  0.0000,  0.0000,\n",
      "          0.0000,  0.0000,  0.0000,  0.0000,  0.0000,  0.0000,  0.0000,  0.0000],\n",
      "        [ 0.9695, -0.1239, -0.8288, -0.6332,  0.3228,  0.6021,  0.0000,  0.0000,\n",
      "          0.0000,  0.0000,  0.0000,  0.0000,  0.0000,  0.0000,  0.0000,  0.0000],\n",
      "        [ 0.4204, -0.0338,  0.4978, -0.8656, -0.1551,  0.4404, -0.6428,  0.0000,\n",
      "          0.0000,  0.0000,  0.0000,  0.0000,  0.0000,  0.0000,  0.0000,  0.0000],\n",
      "        [-0.6313,  0.5401, -0.1828,  0.7112, -0.2092, -0.6779, -0.0665, -0.8317,\n",
      "          0.0000,  0.0000,  0.0000,  0.0000,  0.0000,  0.0000,  0.0000,  0.0000],\n",
      "        [-0.2245,  0.3179,  0.6565,  0.2778, -0.6098, -0.5224,  0.0058, -0.3246,\n",
      "         -0.2194,  0.0000,  0.0000,  0.0000,  0.0000,  0.0000,  0.0000,  0.0000],\n",
      "        [ 0.1564,  0.1610, -0.0411, -0.0352,  0.0635,  1.5273,  0.6515,  0.7420,\n",
      "          0.0047,  0.8129,  0.0000,  0.0000,  0.0000,  0.0000,  0.0000,  0.0000],\n",
      "        [ 0.3351,  0.5927,  0.6179, -0.3902,  0.9182, -0.4815, -0.1914, -0.0835,\n",
      "          0.5041,  0.0598, -0.4233,  0.0000,  0.0000,  0.0000,  0.0000,  0.0000],\n",
      "        [ 0.2880, -0.0697,  1.0218, -0.7033,  0.1186,  0.3857,  0.5850,  0.1965,\n",
      "          0.8399,  0.6977, -0.8231,  0.3867,  0.0000,  0.0000,  0.0000,  0.0000],\n",
      "        [ 0.1218,  0.0181, -0.1552, -0.0267,  0.7141, -0.5249,  0.0324, -0.0057,\n",
      "          1.0418,  0.2506, -0.0308,  0.6116, -0.3370,  0.0000,  0.0000,  0.0000],\n",
      "        [-0.2690,  0.0709,  0.8244,  0.0146,  0.3904,  0.5165,  0.2686, -0.0957,\n",
      "         -0.7235, -0.3642, -0.0329, -1.0266, -0.3100, -0.2678,  0.0000,  0.0000],\n",
      "        [-0.1489,  0.7440,  0.4602, -0.9343, -0.4631, -0.2219,  0.3511, -0.2175,\n",
      "         -0.9269,  0.3148, -0.0835,  0.2844,  0.1438,  0.0290, -0.2864,  0.0000],\n",
      "        [-1.0309,  0.0312, -0.2592, -1.1555,  0.2098, -0.1199,  0.5352,  0.6655,\n",
      "         -0.7484,  0.2553,  0.4715, -0.2463, -0.3081,  0.5819,  0.0061, -0.1304]],\n",
      "       grad_fn=<SelectBackward0>)\n",
      "tensor([[-0.1317, -0.7879, -0.0703, -1.2832, -0.1162,  0.9695,  0.4204, -0.6313,\n",
      "         -0.2245,  0.1564,  0.3351,  0.2880,  0.1218, -0.2690, -0.1489, -1.0309],\n",
      "        [ 0.0000,  0.0343, -0.1561,  0.3787, -0.1366, -0.1239, -0.0338,  0.5401,\n",
      "          0.3179,  0.1610,  0.5927, -0.0697,  0.0181,  0.0709,  0.7440,  0.0312],\n",
      "        [ 0.0000,  0.0000,  0.8436,  0.9443,  0.5684, -0.8288,  0.4978, -0.1828,\n",
      "          0.6565, -0.0411,  0.6179,  1.0218, -0.1552,  0.8244,  0.4602, -0.2592],\n",
      "        [ 0.0000,  0.0000,  0.0000, -0.2443,  0.8008, -0.6332, -0.8656,  0.7112,\n",
      "          0.2778, -0.0352, -0.3902, -0.7033, -0.0267,  0.0146, -0.9343, -1.1555],\n",
      "        [ 0.0000,  0.0000,  0.0000,  0.0000, -0.6393,  0.3228, -0.1551, -0.2092,\n",
      "         -0.6098,  0.0635,  0.9182,  0.1186,  0.7141,  0.3904, -0.4631,  0.2098],\n",
      "        [ 0.0000,  0.0000,  0.0000,  0.0000,  0.0000,  0.6021,  0.4404, -0.6779,\n",
      "         -0.5224,  1.5273, -0.4815,  0.3857, -0.5249,  0.5165, -0.2219, -0.1199],\n",
      "        [ 0.0000,  0.0000,  0.0000,  0.0000,  0.0000,  0.0000, -0.6428, -0.0665,\n",
      "          0.0058,  0.6515, -0.1914,  0.5850,  0.0324,  0.2686,  0.3511,  0.5352],\n",
      "        [ 0.0000,  0.0000,  0.0000,  0.0000,  0.0000,  0.0000,  0.0000, -0.8317,\n",
      "         -0.3246,  0.7420, -0.0835,  0.1965, -0.0057, -0.0957, -0.2175,  0.6655],\n",
      "        [ 0.0000,  0.0000,  0.0000,  0.0000,  0.0000,  0.0000,  0.0000,  0.0000,\n",
      "         -0.2194,  0.0047,  0.5041,  0.8399,  1.0418, -0.7235, -0.9269, -0.7484],\n",
      "        [ 0.0000,  0.0000,  0.0000,  0.0000,  0.0000,  0.0000,  0.0000,  0.0000,\n",
      "          0.0000,  0.8129,  0.0598,  0.6977,  0.2506, -0.3642,  0.3148,  0.2553],\n",
      "        [ 0.0000,  0.0000,  0.0000,  0.0000,  0.0000,  0.0000,  0.0000,  0.0000,\n",
      "          0.0000,  0.0000, -0.4233, -0.8231, -0.0308, -0.0329, -0.0835,  0.4715],\n",
      "        [ 0.0000,  0.0000,  0.0000,  0.0000,  0.0000,  0.0000,  0.0000,  0.0000,\n",
      "          0.0000,  0.0000,  0.0000,  0.3867,  0.6116, -1.0266,  0.2844, -0.2463],\n",
      "        [ 0.0000,  0.0000,  0.0000,  0.0000,  0.0000,  0.0000,  0.0000,  0.0000,\n",
      "          0.0000,  0.0000,  0.0000,  0.0000, -0.3370, -0.3100,  0.1438, -0.3081],\n",
      "        [ 0.0000,  0.0000,  0.0000,  0.0000,  0.0000,  0.0000,  0.0000,  0.0000,\n",
      "          0.0000,  0.0000,  0.0000,  0.0000,  0.0000, -0.2678,  0.0290,  0.5819],\n",
      "        [ 0.0000,  0.0000,  0.0000,  0.0000,  0.0000,  0.0000,  0.0000,  0.0000,\n",
      "          0.0000,  0.0000,  0.0000,  0.0000,  0.0000,  0.0000, -0.2864,  0.0061],\n",
      "        [ 0.0000,  0.0000,  0.0000,  0.0000,  0.0000,  0.0000,  0.0000,  0.0000,\n",
      "          0.0000,  0.0000,  0.0000,  0.0000,  0.0000,  0.0000,  0.0000, -0.1304]],\n",
      "       grad_fn=<SelectBackward0>)\n"
     ]
    }
   ],
   "source": [
    "print(L[4, 3])\n",
    "print(L.transpose(-1, -2)[4, 3])"
   ]
  },
  {
   "cell_type": "code",
   "execution_count": 7,
   "id": "5878b6ff",
   "metadata": {},
   "outputs": [],
   "source": [
    "class LowerTriangularForCovarianceMatrix(nn.Module):\n",
    "    def __init__(self, Dz=Dz, Dx=Dx):\n",
    "        super(LowerTriangularForCovarianceMatrix, self).__init__()\n",
    "        self.diagonale = nn.Linear(Dz, Dx)\n",
    "        self.full = nn.Sequential(\n",
    "            nn.Linear(Dz, Dx * Dx),\n",
    "            nn.Unflatten(-1, (Dx, Dx)),\n",
    "            )\n",
    "\n",
    "    def forward(self, z):\n",
    "        D = torch.diag_embed(torch.exp(self.diagonale(z)))  # Diagonal elements > 0\n",
    "        T = torch.tril(self.full(z), diagonal=-1)  # Lower triangular matrix without diagonal\n",
    "        L = D + T\n",
    "\n",
    "        return L\n",
    "    \n",
    "lower_triangular = LowerTriangularForCovarianceMatrix()"
   ]
  },
  {
   "cell_type": "code",
   "execution_count": 8,
   "id": "27ef2abd",
   "metadata": {},
   "outputs": [
    {
     "name": "stdout",
     "output_type": "stream",
     "text": [
      "z shape: torch.Size([8]) => L shape: torch.Size([16, 16])\n",
      "z shape: torch.Size([500, 8]) => L shape: torch.Size([500, 16, 16])\n",
      "z shape: torch.Size([32, 500, 8]) => L shape: torch.Size([32, 500, 16, 16])\n"
     ]
    }
   ],
   "source": [
    "z = torch.randn(Dz)\n",
    "L = lower_triangular(z)\n",
    "print(f\"z shape: {z.shape} => L shape: {L.shape}\")\n",
    "\n",
    "z = torch.randn(N,Dz)\n",
    "L = lower_triangular(z)\n",
    "print(f\"z shape: {z.shape} => L shape: {L.shape}\")\n",
    "\n",
    "z = torch.randn(B,N,Dz)\n",
    "L = lower_triangular(z)\n",
    "print(f\"z shape: {z.shape} => L shape: {L.shape}\")"
   ]
  },
  {
   "cell_type": "code",
   "execution_count": 9,
   "id": "06cb51a0",
   "metadata": {},
   "outputs": [
    {
     "name": "stdout",
     "output_type": "stream",
     "text": [
      "tensor([[ 4.1057,  0.0000,  0.0000,  0.0000,  0.0000,  0.0000,  0.0000,  0.0000,\n",
      "          0.0000,  0.0000,  0.0000,  0.0000,  0.0000,  0.0000,  0.0000,  0.0000],\n",
      "        [ 0.1622,  1.7170,  0.0000,  0.0000,  0.0000,  0.0000,  0.0000,  0.0000,\n",
      "          0.0000,  0.0000,  0.0000,  0.0000,  0.0000,  0.0000,  0.0000,  0.0000],\n",
      "        [ 0.9138, -0.0357,  0.8783,  0.0000,  0.0000,  0.0000,  0.0000,  0.0000,\n",
      "          0.0000,  0.0000,  0.0000,  0.0000,  0.0000,  0.0000,  0.0000,  0.0000],\n",
      "        [-0.3027,  0.0111,  0.4641,  1.6057,  0.0000,  0.0000,  0.0000,  0.0000,\n",
      "          0.0000,  0.0000,  0.0000,  0.0000,  0.0000,  0.0000,  0.0000,  0.0000],\n",
      "        [-0.5145, -1.0874, -0.9443, -0.4787,  1.1992,  0.0000,  0.0000,  0.0000,\n",
      "          0.0000,  0.0000,  0.0000,  0.0000,  0.0000,  0.0000,  0.0000,  0.0000],\n",
      "        [-0.2096, -0.7371, -0.4546, -0.3539,  0.3270,  0.2552,  0.0000,  0.0000,\n",
      "          0.0000,  0.0000,  0.0000,  0.0000,  0.0000,  0.0000,  0.0000,  0.0000],\n",
      "        [ 0.4632, -0.6119, -1.3032, -0.9210, -0.3921, -0.1489,  1.5756,  0.0000,\n",
      "          0.0000,  0.0000,  0.0000,  0.0000,  0.0000,  0.0000,  0.0000,  0.0000],\n",
      "        [-0.7684,  0.1826, -2.2594,  0.0446, -1.3514, -0.0341,  0.7350,  0.4199,\n",
      "          0.0000,  0.0000,  0.0000,  0.0000,  0.0000,  0.0000,  0.0000,  0.0000],\n",
      "        [ 0.7788, -0.2179,  0.9839,  0.4419,  0.1439, -0.2381, -0.1012,  1.0584,\n",
      "          1.3837,  0.0000,  0.0000,  0.0000,  0.0000,  0.0000,  0.0000,  0.0000],\n",
      "        [-0.6542,  0.8648, -1.0316, -0.7263,  0.3253, -0.1234, -0.4289,  1.2075,\n",
      "          0.0271,  0.3998,  0.0000,  0.0000,  0.0000,  0.0000,  0.0000,  0.0000],\n",
      "        [ 0.3142,  0.3534, -0.4811,  0.2940, -0.7029, -0.9132, -1.0774, -0.0299,\n",
      "          0.8724,  0.7077,  1.1295,  0.0000,  0.0000,  0.0000,  0.0000,  0.0000],\n",
      "        [ 0.5916, -0.2062,  1.1770, -0.5156,  0.5904,  0.1930, -0.1388, -0.4426,\n",
      "         -0.2284, -0.3339,  0.2857,  1.9434,  0.0000,  0.0000,  0.0000,  0.0000],\n",
      "        [-0.3880,  1.2319,  0.9253,  0.4685, -0.6219, -1.0144, -0.3547,  0.1334,\n",
      "          0.5942,  1.1691,  0.9894,  0.1885,  2.4655,  0.0000,  0.0000,  0.0000],\n",
      "        [-0.3463,  0.0086,  0.4160, -0.5681,  0.9393,  0.7908,  1.8152,  0.8127,\n",
      "         -0.3778,  0.9132,  0.1588, -0.8954, -1.4701,  0.6628,  0.0000,  0.0000],\n",
      "        [ 0.9441, -0.5780,  0.4365,  0.8770,  1.0963, -1.3711,  1.0288,  0.8067,\n",
      "         -1.3632,  0.3045,  0.1015, -0.5662,  0.4832,  0.0456,  0.3964,  0.0000],\n",
      "        [ 0.0350, -0.3071, -0.4484,  0.3650, -0.2414,  0.6246,  0.9733, -0.1643,\n",
      "         -0.0520,  0.6891, -0.3046, -1.0838,  0.0733, -0.1682,  0.4954,  0.6075]],\n",
      "       grad_fn=<SelectBackward0>)\n"
     ]
    }
   ],
   "source": [
    "sample_L = L[4, 3]\n",
    "\n",
    "print(sample_L)"
   ]
  },
  {
   "cell_type": "code",
   "execution_count": 10,
   "id": "59d82c32",
   "metadata": {},
   "outputs": [
    {
     "name": "stdout",
     "output_type": "stream",
     "text": [
      "z shape: torch.Size([8]) => mu shape: torch.Size([16]), covar shape: torch.Size([16, 16])\n",
      "mvn loc: torch.Size([16]), covariance_matrix: torch.Size([16, 16])\n",
      "mvn batch_shape: torch.Size([]), event_shape: torch.Size([16])\n",
      "\n",
      "z shape: torch.Size([500, 8]) => mu shape: torch.Size([500, 16]), covar shape: torch.Size([500, 16, 16])\n",
      "mvn loc: torch.Size([500, 16]), covariance_matrix: torch.Size([500, 16, 16])\n",
      "mvn batch_shape: torch.Size([500]), event_shape: torch.Size([16])\n",
      "\n",
      "z shape: torch.Size([32, 500, 8]) => mu shape: torch.Size([32, 500, 16]), covar shape: torch.Size([32, 500, 16, 16])\n",
      "mvn loc: torch.Size([32, 500, 16]), covariance_matrix: torch.Size([32, 500, 16, 16])\n",
      "mvn batch_shape: torch.Size([32, 500]), event_shape: torch.Size([16])\n",
      "\n"
     ]
    }
   ],
   "source": [
    "# Instantiation de MVN avec des lower triangular matrices\n",
    "# => the use of scale_tril is mandatory to avoid errors when instanciating the MVN class !\n",
    "# using covariance_matrix instead of scale_tril may lead to numerical errors.\n",
    "\n",
    "z = torch.randn(Dz)\n",
    "mu = diagonale(z)\n",
    "L = lower_triangular(z)\n",
    "print(f\"z shape: {z.shape} => mu shape: {mu.shape}, covar shape: {L.shape}\")\n",
    "mvn = MVN(loc=mu, scale_tril=L)\n",
    "print(f\"mvn loc: {mvn.loc.shape}, covariance_matrix: {mvn.covariance_matrix.shape}\")\n",
    "print(f\"mvn batch_shape: {mvn.batch_shape}, event_shape: {mvn.event_shape}\")\n",
    "print()\n",
    "\n",
    "z = torch.randn(N,Dz)\n",
    "mu = diagonale(z)\n",
    "L = lower_triangular(z)\n",
    "print(f\"z shape: {z.shape} => mu shape: {mu.shape}, covar shape: {L.shape}\")\n",
    "mvn = MVN(loc=mu, scale_tril=L)\n",
    "print(f\"mvn loc: {mvn.loc.shape}, covariance_matrix: {mvn.covariance_matrix.shape}\")\n",
    "print(f\"mvn batch_shape: {mvn.batch_shape}, event_shape: {mvn.event_shape}\")\n",
    "print()\n",
    "\n",
    "z = torch.randn(B,N,Dz)\n",
    "mu = diagonale(z)\n",
    "L = lower_triangular(z)\n",
    "print(f\"z shape: {z.shape} => mu shape: {mu.shape}, covar shape: {L.shape}\")\n",
    "mvn = MVN(loc=mu, scale_tril=L)\n",
    "print(f\"mvn loc: {mvn.loc.shape}, covariance_matrix: {mvn.covariance_matrix.shape}\")\n",
    "print(f\"mvn batch_shape: {mvn.batch_shape}, event_shape: {mvn.event_shape}\")\n",
    "print()"
   ]
  },
  {
   "cell_type": "code",
   "execution_count": 12,
   "id": "ea22a203",
   "metadata": {},
   "outputs": [
    {
     "name": "stderr",
     "output_type": "stream",
     "text": [
      "100%|██████████| 10000/10000 [01:17<00:00, 128.44it/s]\n"
     ]
    }
   ],
   "source": [
    "# Test for error-free instanciations of MVNs by brute force sampling...\n",
    "\n",
    "N_TESTS = int(1e+4)\n",
    "\n",
    "for _ in tqdm(range(N_TESTS)):\n",
    "    \n",
    "    z = torch.randn(B,N,Dz)\n",
    "    mu = diagonale(z)\n",
    "    L = lower_triangular(z)\n",
    "    mvn = MVN(loc=mu, scale_tril=L)"
   ]
  }
 ],
 "metadata": {
  "kernelspec": {
   "display_name": "torchy",
   "language": "python",
   "name": "python3"
  },
  "language_info": {
   "codemirror_mode": {
    "name": "ipython",
    "version": 3
   },
   "file_extension": ".py",
   "mimetype": "text/x-python",
   "name": "python",
   "nbconvert_exporter": "python",
   "pygments_lexer": "ipython3",
   "version": "3.12.4"
  }
 },
 "nbformat": 4,
 "nbformat_minor": 5
}
