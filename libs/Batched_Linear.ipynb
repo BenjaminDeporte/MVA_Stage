{
 "cells": [
  {
   "cell_type": "code",
   "execution_count": 1,
   "id": "3dfa7108",
   "metadata": {},
   "outputs": [],
   "source": [
    "import torch\n",
    "import torch.nn as nn"
   ]
  },
  {
   "cell_type": "code",
   "execution_count": 2,
   "id": "18bc5f75",
   "metadata": {},
   "outputs": [],
   "source": [
    "input_dim = 10\n",
    "output_dim = 5\n",
    "\n",
    "linear_layer = nn.Linear(input_dim, output_dim)"
   ]
  },
  {
   "cell_type": "code",
   "execution_count": 3,
   "id": "11c39d19",
   "metadata": {},
   "outputs": [
    {
     "name": "stdout",
     "output_type": "stream",
     "text": [
      "input shape: torch.Size([10])\n",
      "output shape: torch.Size([5])\n"
     ]
    }
   ],
   "source": [
    "# Essai 1, sans batch\n",
    "\n",
    "x = torch.randn((input_dim,))\n",
    "output = linear_layer(x)\n",
    "\n",
    "print(f\"input shape: {x.shape}\")\n",
    "print(f\"output shape: {output.shape}\")"
   ]
  },
  {
   "cell_type": "code",
   "execution_count": 4,
   "id": "6c5fc58a",
   "metadata": {},
   "outputs": [
    {
     "name": "stdout",
     "output_type": "stream",
     "text": [
      "input shape: torch.Size([50, 10])\n",
      "output shape: torch.Size([50, 5])\n"
     ]
    }
   ],
   "source": [
    "# Essai 2, avec sequence_length\n",
    "\n",
    "sequence_length = 50\n",
    "\n",
    "x = torch.randn((sequence_length, input_dim))\n",
    "output = linear_layer(x)\n",
    "\n",
    "print(f\"input shape: {x.shape}\")\n",
    "print(f\"output shape: {output.shape}\")"
   ]
  },
  {
   "cell_type": "code",
   "execution_count": 5,
   "id": "06e67ce6",
   "metadata": {},
   "outputs": [
    {
     "name": "stdout",
     "output_type": "stream",
     "text": [
      "input shape: torch.Size([32, 150, 10])\n",
      "output shape: torch.Size([32, 150, 5])\n"
     ]
    }
   ],
   "source": [
    "# Essai 3, avec batch_size et sequence_length\n",
    "\n",
    "batch_size = 32\n",
    "sequence_length = 150\n",
    "\n",
    "x = torch.randn((batch_size, sequence_length, input_dim))\n",
    "output = linear_layer(x)\n",
    "print(f\"input shape: {x.shape}\")\n",
    "print(f\"output shape: {output.shape}\")"
   ]
  }
 ],
 "metadata": {
  "kernelspec": {
   "display_name": "torchy",
   "language": "python",
   "name": "python3"
  },
  "language_info": {
   "codemirror_mode": {
    "name": "ipython",
    "version": 3
   },
   "file_extension": ".py",
   "mimetype": "text/x-python",
   "name": "python",
   "nbconvert_exporter": "python",
   "pygments_lexer": "ipython3",
   "version": "3.12.4"
  }
 },
 "nbformat": 4,
 "nbformat_minor": 5
}
