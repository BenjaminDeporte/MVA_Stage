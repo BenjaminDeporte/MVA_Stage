{
 "cells": [
  {
   "cell_type": "code",
   "execution_count": 1,
   "id": "6aa96950",
   "metadata": {},
   "outputs": [],
   "source": [
    "import numpy as np\n",
    "import matplotlib.pyplot as plt\n",
    "import torch\n",
    "import torch.nn as nn\n",
    "import torch.nn.functional as F"
   ]
  },
  {
   "cell_type": "code",
   "execution_count": 2,
   "id": "0a59839f",
   "metadata": {},
   "outputs": [
    {
     "name": "stderr",
     "output_type": "stream",
     "text": [
      "/home/benjamin.deporte/MVA/MVA_Stage/libs/vrnn_lib_sprites.py:868: SyntaxWarning: invalid escape sequence '\\p'\n",
      "  \"\"\"\n"
     ]
    }
   ],
   "source": [
    "from libs.vrnn_lib_sprites import seed_everything, VRNN\n",
    "from libs.vrnn_lib_sprites import loss_function, train\n",
    "from libs.vrnn_lib_sprites import BetaLinearScheduler, BetaThresholdScheduler\n",
    "from libs.vrnn_lib_sprites import plot_losses, sample_predictions"
   ]
  },
  {
   "cell_type": "code",
   "execution_count": 3,
   "id": "4ed07bac",
   "metadata": {},
   "outputs": [
    {
     "name": "stdout",
     "output_type": "stream",
     "text": [
      "Using cuda\n",
      "GPU Name: NVIDIA GeForce RTX 4090\n",
      "Total GPU Memory: 23.6 GB\n"
     ]
    }
   ],
   "source": [
    "if torch.cuda.is_available():\n",
    "    device = torch.device('cuda')\n",
    "    dtype = torch.cuda.FloatTensor\n",
    "else:\n",
    "    device = torch.device('cpu')\n",
    "    dtype = torch.FloatTensor\n",
    "\n",
    "print(f\"Using {device}\")\n",
    "\n",
    "torch.set_default_dtype(torch.float64)\n",
    "\n",
    "if device.type == 'cuda':\n",
    "    print('GPU Name:', torch.cuda.get_device_name(0))\n",
    "    print('Total GPU Memory:', round(torch.cuda.get_device_properties(0).total_memory/1024**3,1), 'GB')"
   ]
  },
  {
   "cell_type": "code",
   "execution_count": 4,
   "id": "9f2b14cf",
   "metadata": {},
   "outputs": [
    {
     "name": "stdout",
     "output_type": "stream",
     "text": [
      "Shape in = torch.Size([10, 5, 64, 64, 3])\n",
      "Shape out = torch.Size([10, 5, 128])\n"
     ]
    }
   ],
   "source": [
    "# test PreEncoderCNN\n",
    "\n",
    "from libs.vrnn_lib_sprites import PreEncoderCNN\n",
    "pre_encoder = PreEncoderCNN(Dx=128).to(device)\n",
    "\n",
    "test_in = torch.randn(10, 5, 64, 64, 3).to(device)  # (T, B, W, H, C)\n",
    "output = pre_encoder(test_in)\n",
    "\n",
    "print(f\"Shape in = {test_in.shape}\")\n",
    "print(f\"Shape out = {output.shape}\")"
   ]
  },
  {
   "cell_type": "code",
   "execution_count": 5,
   "id": "6d863e6f",
   "metadata": {},
   "outputs": [
    {
     "name": "stdout",
     "output_type": "stream",
     "text": [
      "Shape in = torch.Size([10, 5, 128])\n",
      "Shape out = torch.Size([10, 5, 64, 64, 3])\n"
     ]
    }
   ],
   "source": [
    "# test PostDecoderCNN\n",
    "\n",
    "from libs.vrnn_lib_sprites import PostDecoderCNN\n",
    "post_decoder = PostDecoderCNN(Dx=128).to(device)\n",
    "\n",
    "test_in = torch.randn(10, 5, 128).to(device)  # (T, B, Dx)\n",
    "output = post_decoder(test_in)\n",
    "\n",
    "print(f\"Shape in = {test_in.shape}\")\n",
    "print(f\"Shape out = {output.shape}\")  # Should be (T, B, 64, 64, 3)"
   ]
  }
 ],
 "metadata": {
  "kernelspec": {
   "display_name": "torchy",
   "language": "python",
   "name": "python3"
  },
  "language_info": {
   "codemirror_mode": {
    "name": "ipython",
    "version": 3
   },
   "file_extension": ".py",
   "mimetype": "text/x-python",
   "name": "python",
   "nbconvert_exporter": "python",
   "pygments_lexer": "ipython3",
   "version": "3.12.4"
  }
 },
 "nbformat": 4,
 "nbformat_minor": 5
}
